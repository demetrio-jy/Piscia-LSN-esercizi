{
 "cells": [
  {
   "cell_type": "markdown",
   "metadata": {},
   "source": [
    "# Laboratorio di simulazioni numeriche\n",
    "### Esercizio 11.1\n",
    "\n",
    "Si consideri la funzione \n",
    "$$\n",
    "f(x)=2x+1\n",
    "$$\n",
    "\n",
    "Il codice fornito permette di generare dati di input per $x \\in [-1,1]$, che si discostano dalla funzione data per mezzo di un rumore gaussiano di varianza $\\sigma$. Utilizzando le librerie Tensorflow e Keras, una parte di questi dati (dati di training) viene utilizzata per addestrare una rete neurale ad un layer. Il metodo di ottimizzazione scelto è quello dello stochastic gradient discent (SGD); come funzione di loss viene utilizzata la mean square-error (MSE). La restante parte di dati (dati di test) viene dunque utilizzata per valutare il modello ottenuto.\n",
    "\n",
    "L'esercizio richiede di variare il numero di dati di training $N_{train}$, di epoche (ovvero quante volte viene soministrato il dataset di training) $N_{epochs}$ e il rumore $\\sigma$, al fine di valutare i risultati ottenuti e ottenere una configurazione ottimale.\n",
    "\n",
    "\n",
    "### Commento risultati\n",
    "In un primo momento è stato osservato come ripetendo più volte la simulazione tenendo fissati $N_{train} = 100$ e $\\sigma=0$, la loss dei dati di test valutata sul modello vari fortemente in modo casuale quando $N_{epochs} < 30$, rimanendo su valori confrontabili con l'intervallo $(0.01;1)$. Oltre questa soglia si osservano comunque variazioni casuali ma più contenute. In particolare per $ 30 < N_{epochs} < 70$ l'intervallo di riferimento diventa $(0.0001;0.01)$. Per $N_{epochs}$ maggiori l'andamento della loss sembra saturare: aumentando il numero di epoche non si osservano diminuzioni significativi.\n",
    "\n",
    "Successivamente è stata quindi variato il numero di dati di training. Utilizzando $N_{train} = 200$, non sono state osservate grandi cambiamenti rispetto ai casi descritti sopra. Con $N_{train} = 300$ invece le variazioni sulla loss sono risultate più contenute (a parità di configurazioni di $N_{epochs}$ studiate). \n",
    "\n",
    "Si deduce quindi che un dataset più massiccio e un numero di epoche sufficientemente grande sono fattori fondamentali per la buona riuscita dell'addestramento della rete neurale.\n",
    "\n",
    "Utilizzando $N_{epochs} = 30$ e  $N_{train} = 300$, sono stati poi forniti alla rete dati soggetti a un errore $\\sigma$ non nullo. Per valori di $\\sigma < 0.1$ sono state registrate loss confrontabili con quelle a $\\sigma$ nulla. Il modello ottenuto inoltre fitta sufficientemente bene la retta attesa. Per dati più sporchi invece non sempre la rete risulta in grado di ottenere un buon modello.\n",
    "\n",
    "### Codice utilizzato (condizioni ottimali)"
   ]
  },
  {
   "cell_type": "code",
   "execution_count": 27,
   "metadata": {},
   "outputs": [],
   "source": [
    "import numpy as np\n",
    "import matplotlib.pyplot as plt\n",
    "\n",
    "import tensorflow as tf\n",
    "from tensorflow import keras\n",
    "from tensorflow.keras.models import Sequential\n",
    "from tensorflow.keras.layers import Dense, Activation\n",
    "from tensorflow.keras import backend as K\n",
    "from tensorflow.keras.utils import get_custom_objects"
   ]
  },
  {
   "cell_type": "code",
   "execution_count": 103,
   "metadata": {},
   "outputs": [
    {
     "data": {
      "image/png": "[encoded data removed]",
      "text/plain": [
       "<Figure size 432x288 with 1 Axes>"
      ]
     },
     "metadata": {
      "needs_background": "light"
     },
     "output_type": "display_data"
    }
   ],
   "source": [
    "# target parameters of f(x) = m*x + b\n",
    "m = 2 # slope\n",
    "b = 1 # intersect\n",
    "\n",
    "# generate training inputs\n",
    "np.random.seed(0)\n",
    "x_train = np.random.uniform(-1, 1, 300)\n",
    "x_valid = np.random.uniform(-1, 1, 10)\n",
    "x_valid.sort()\n",
    "y_target = m * x_valid + b # ideal (target) linear function\n",
    "\n",
    "sigma = 0.01 # noise standard deviation, for the moment it is absent\n",
    "y_train = np.random.normal(m * x_train + b, sigma) # actual measures from which we want to guess regression parameters\n",
    "y_valid = np.random.normal(m * x_valid + b, sigma) # data for the test\n",
    "\n",
    "# plot training and target dataset\n",
    "plt.plot(x_valid, y_target)\n",
    "plt.scatter(x_valid, y_valid, color='r')\n",
    "plt.grid(True); plt.show()"
   ]
  },
  {
   "cell_type": "code",
   "execution_count": 104,
   "metadata": {
    "scrolled": true
   },
   "outputs": [
    {
     "name": "stdout",
     "output_type": "stream",
     "text": [
      "Model: \"sequential_10\"\n",
      "_________________________________________________________________\n",
      "Layer (type)                 Output Shape              Param #   \n",
      "=================================================================\n",
      "dense_10 (Dense)             (None, 1)                 2         \n",
      "=================================================================\n",
      "Total params: 2\n",
      "Trainable params: 2\n",
      "Non-trainable params: 0\n",
      "_________________________________________________________________\n"
     ]
    }
   ],
   "source": [
    "# compose the NN model\n",
    "model = tf.keras.Sequential()\n",
    "model.add(Dense(1, input_shape=(1,)))\n",
    "\n",
    "# compile the model choosing optimizer, loss and metrics objects\n",
    "model.compile(optimizer='sgd', loss='mse', metrics=['mse'])\n",
    "\n",
    "# get a summary of our composed model\n",
    "model.summary()"
   ]
  },
  {
   "cell_type": "code",
   "execution_count": 105,
   "metadata": {
    "scrolled": true
   },
   "outputs": [
    {
     "name": "stdout",
     "output_type": "stream",
     "text": [
      "Train on 300 samples, validate on 10 samples\n",
      "Epoch 1/30\n",
      "300/300 [==============================] - 0s 919us/sample - loss: 1.1784 - mse: 1.1784 - val_loss: 0.6548 - val_mse: 0.6548\n",
      "Epoch 2/30\n",
      "300/300 [==============================] - 0s 87us/sample - loss: 0.8531 - mse: 0.8531 - val_loss: 0.4834 - val_mse: 0.4834\n",
      "Epoch 3/30\n",
      "300/300 [==============================] - 0s 90us/sample - loss: 0.6314 - mse: 0.6314 - val_loss: 0.3612 - val_mse: 0.3612\n",
      "Epoch 4/30\n",
      "300/300 [==============================] - 0s 109us/sample - loss: 0.4680 - mse: 0.4680 - val_loss: 0.2798 - val_mse: 0.2798\n",
      "Epoch 5/30\n",
      "300/300 [==============================] - 0s 92us/sample - loss: 0.3548 - mse: 0.3548 - val_loss: 0.2236 - val_mse: 0.2236\n",
      "Epoch 6/30\n",
      "300/300 [==============================] - 0s 105us/sample - loss: 0.2743 - mse: 0.2743 - val_loss: 0.1822 - val_mse: 0.1822\n",
      "Epoch 7/30\n",
      "300/300 [==============================] - 0s 88us/sample - loss: 0.2143 - mse: 0.2143 - val_loss: 0.1539 - val_mse: 0.1539\n",
      "Epoch 8/30\n",
      "300/300 [==============================] - 0s 106us/sample - loss: 0.1735 - mse: 0.1735 - val_loss: 0.1314 - val_mse: 0.1314\n",
      "Epoch 9/30\n",
      "300/300 [==============================] - 0s 70us/sample - loss: 0.1407 - mse: 0.1407 - val_loss: 0.1136 - val_mse: 0.1136\n",
      "Epoch 10/30\n",
      "300/300 [==============================] - 0s 94us/sample - loss: 0.1159 - mse: 0.1159 - val_loss: 0.0998 - val_mse: 0.0998\n",
      "Epoch 11/30\n",
      "300/300 [==============================] - 0s 95us/sample - loss: 0.0974 - mse: 0.0974 - val_loss: 0.0877 - val_mse: 0.0877\n",
      "Epoch 12/30\n",
      "300/300 [==============================] - 0s 77us/sample - loss: 0.0818 - mse: 0.0818 - val_loss: 0.0775 - val_mse: 0.0775\n",
      "Epoch 13/30\n",
      "300/300 [==============================] - 0s 60us/sample - loss: 0.0695 - mse: 0.0695 - val_loss: 0.0684 - val_mse: 0.0684\n",
      "Epoch 14/30\n",
      "300/300 [==============================] - 0s 77us/sample - loss: 0.0594 - mse: 0.0594 - val_loss: 0.0608 - val_mse: 0.0608\n",
      "Epoch 15/30\n",
      "300/300 [==============================] - 0s 63us/sample - loss: 0.0511 - mse: 0.0511 - val_loss: 0.0539 - val_mse: 0.0539\n",
      "Epoch 16/30\n",
      "300/300 [==============================] - 0s 79us/sample - loss: 0.0442 - mse: 0.0442 - val_loss: 0.0478 - val_mse: 0.0478\n",
      "Epoch 17/30\n",
      "300/300 [==============================] - 0s 63us/sample - loss: 0.0383 - mse: 0.0383 - val_loss: 0.0423 - val_mse: 0.0423\n",
      "Epoch 18/30\n",
      "300/300 [==============================] - 0s 73us/sample - loss: 0.0332 - mse: 0.0332 - val_loss: 0.0375 - val_mse: 0.0375\n",
      "Epoch 19/30\n",
      "300/300 [==============================] - 0s 68us/sample - loss: 0.0289 - mse: 0.0289 - val_loss: 0.0330 - val_mse: 0.0330\n",
      "Epoch 20/30\n",
      "300/300 [==============================] - 0s 67us/sample - loss: 0.0250 - mse: 0.0250 - val_loss: 0.0292 - val_mse: 0.0292\n",
      "Epoch 21/30\n",
      "300/300 [==============================] - 0s 70us/sample - loss: 0.0218 - mse: 0.0218 - val_loss: 0.0258 - val_mse: 0.0258\n",
      "Epoch 22/30\n",
      "300/300 [==============================] - 0s 160us/sample - loss: 0.0191 - mse: 0.0191 - val_loss: 0.0225 - val_mse: 0.0225\n",
      "Epoch 23/30\n",
      "300/300 [==============================] - 0s 83us/sample - loss: 0.0166 - mse: 0.0166 - val_loss: 0.0198 - val_mse: 0.0198\n",
      "Epoch 24/30\n",
      "300/300 [==============================] - 0s 81us/sample - loss: 0.0145 - mse: 0.0145 - val_loss: 0.0175 - val_mse: 0.0175\n",
      "Epoch 25/30\n",
      "300/300 [==============================] - 0s 51us/sample - loss: 0.0126 - mse: 0.0126 - val_loss: 0.0153 - val_mse: 0.0153\n",
      "Epoch 26/30\n",
      "300/300 [==============================] - 0s 70us/sample - loss: 0.0110 - mse: 0.0110 - val_loss: 0.0136 - val_mse: 0.0136\n",
      "Epoch 27/30\n",
      "300/300 [==============================] - 0s 70us/sample - loss: 0.0097 - mse: 0.0097 - val_loss: 0.0119 - val_mse: 0.0119\n",
      "Epoch 28/30\n",
      "300/300 [==============================] - 0s 53us/sample - loss: 0.0085 - mse: 0.0085 - val_loss: 0.0105 - val_mse: 0.0105\n",
      "Epoch 29/30\n",
      "300/300 [==============================] - 0s 50us/sample - loss: 0.0074 - mse: 0.0074 - val_loss: 0.0092 - val_mse: 0.0092\n",
      "Epoch 30/30\n",
      "300/300 [==============================] - 0s 49us/sample - loss: 0.0065 - mse: 0.0065 - val_loss: 0.0081 - val_mse: 0.0081\n"
     ]
    }
   ],
   "source": [
    "# fit the model using training dataset\n",
    "# over 10 epochs of 32 batch size each\n",
    "# report training progress against validation data\n",
    "history = model.fit(x=x_train, y=y_train, \n",
    "          batch_size=32, epochs=30,\n",
    "          shuffle=True, # a good idea is to shuffle input before at each epoch\n",
    "          validation_data=(x_valid, y_valid))"
   ]
  },
  {
   "cell_type": "code",
   "execution_count": 106,
   "metadata": {},
   "outputs": [
    {
     "name": "stdout",
     "output_type": "stream",
     "text": [
      "10/10 [==============================] - 0s 238us/sample - loss: 0.0081 - mse: 0.0081\n",
      "\n",
      "Test loss: 0.008092938922345638\n",
      "Test accuracy: 0.008092939\n"
     ]
    }
   ],
   "source": [
    "# evaluate model (built with training data)\n",
    "score = model.evaluate(x_valid, y_valid, batch_size=32, verbose=1)\n",
    "\n",
    "# print performance\n",
    "print()\n",
    "print('Test loss:', score[0])\n",
    "print('Test accuracy:', score[1])"
   ]
  },
  {
   "cell_type": "code",
   "execution_count": 107,
   "metadata": {},
   "outputs": [
    {
     "name": "stdout",
     "output_type": "stream",
     "text": [
      "10/10 [==============================] - 0s 301us/sample - loss: 0.0082 - mse: 0.0082\n",
      "\n",
      "Test loss: 0.008164562284946442\n",
      "Test accuracy: 0.008164562\n"
     ]
    }
   ],
   "source": [
    "# evaluate model with the exact curve\n",
    "score = model.evaluate(x_valid, y_target, batch_size=32, verbose=1)\n",
    "\n",
    "# print performance\n",
    "print()\n",
    "print('Test loss:', score[0])\n",
    "print('Test accuracy:', score[1])"
   ]
  },
  {
   "cell_type": "code",
   "execution_count": 108,
   "metadata": {},
   "outputs": [
    {
     "data": {
      "image/png": "[encoded data removed]",
      "text/plain": [
       "<Figure size 432x288 with 1 Axes>"
      ]
     },
     "metadata": {
      "needs_background": "light"
     },
     "output_type": "display_data"
    }
   ],
   "source": [
    "# look into training history\n",
    "# Plot training & validation loss values\n",
    "plt.plot(history.history['loss'])\n",
    "plt.plot(history.history['val_loss'])\n",
    "plt.title('Model loss')\n",
    "plt.ylabel('Loss')\n",
    "plt.xlabel('Epoch')\n",
    "plt.legend(['Train', 'Test'], loc='best')\n",
    "plt.show()"
   ]
  },
  {
   "cell_type": "code",
   "execution_count": 109,
   "metadata": {},
   "outputs": [
    {
     "data": {
      "image/png": "[encoded data removed]",
      "text/plain": [
       "<Figure size 432x288 with 1 Axes>"
      ]
     },
     "metadata": {
      "needs_background": "light"
     },
     "output_type": "display_data"
    }
   ],
   "source": [
    "x_predicted = np.random.uniform(-1, 1, 100)\n",
    "y_predicted = model.predict(x_predicted)\n",
    "plt.scatter(x_predicted, y_predicted,color='r')\n",
    "plt.plot(x_valid, y_target)\n",
    "plt.grid(True)\n",
    "plt.show()"
   ]
  }
 ],
 "metadata": {
  "kernelspec": {
   "display_name": "Python 3",
   "language": "python",
   "name": "python3"
  },
  "language_info": {
   "codemirror_mode": {
    "name": "ipython",
    "version": 3
   },
   "file_extension": ".py",
   "mimetype": "text/x-python",
   "name": "python",
   "nbconvert_exporter": "python",
   "pygments_lexer": "ipython3",
   "version": "3.7.7"
  }
 },
 "nbformat": 4,
 "nbformat_minor": 4
}
